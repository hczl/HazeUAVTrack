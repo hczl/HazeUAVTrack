{
 "cells": [
  {
   "cell_type": "code",
   "execution_count": 1,
   "id": "9b07d1ba-72d9-4824-89a1-d6fd2019b8ba",
   "metadata": {},
   "outputs": [],
   "source": [
    "import argparse\n",
    "import os\n",
    "import torch\n",
    "from torch import optim\n",
    "import subprocess\n",
    "from utils.create import create_model, create_data\n",
    "from utils.config import load_config\n",
    "import numpy as np # 假设你的可视化部分需要用到 numpy\n",
    "import huggingface_hub\n",
    "\n",
    "\n",
    "result = subprocess.run('bash -c \"source /etc/network_turbo && env | grep proxy\"', shell=True, capture_output=True, text=True)\n",
    "output = result.stdout\n",
    "for line in output.splitlines():\n",
    "    if '=' in line:\n",
    "        var, value = line.split('=', 1)\n",
    "        os.environ[var] = value\n",
    "import os\n",
    "os.environ['CURL_CA_BUNDLE'] = ''\n",
    "import os\n",
    "os.environ[\"HF_HUB_DISABLE_SSL_VERIFICATION\"] = \"1\"\n"
   ]
  },
  {
   "cell_type": "code",
   "execution_count": 2,
   "id": "066cea86-893b-42f9-b710-6e02bc803124",
   "metadata": {},
   "outputs": [],
   "source": [
    "def run_experiment(config_path):\n",
    "        # 1.导入设置\n",
    "    cfg = load_config(config_path)\n",
    "\n",
    "    # 2.数据集创建\n",
    "    train_loader, val_loader, test_loader, train_clean_loader, val_clean_loader = create_data(cfg)\n",
    "\n",
    "    # 3.模型创建\n",
    "    model = create_model(cfg)\n",
    "    # 4.模型训练\n",
    "    model.train_model(train_loader=train_loader, val_loader=val_loader, train_clean_loader=train_clean_loader,\n",
    "                      val_clean_loader = val_clean_loader, num_epochs=cfg['train']['epochs'])\n"
   ]
  },
  {
   "cell_type": "code",
   "execution_count": null,
   "id": "211b2a25-57fb-4e2f-bba8-0331a2dd8788",
   "metadata": {},
   "outputs": [
    {
     "name": "stdout",
     "output_type": "stream",
     "text": [
      "初始化 DataLoader Builder...\n",
      "  原始图像根目录: ./data/UAV-M/UAV-benchmark-M\n",
      "  标签根目录: ./data/UAV-M/UAV-benchmark-MOTD_v1.0/GT\n",
      "  是否加载忽略信息 (is_mask): True\n",
      "  雾化方法: MiDaS_Deep,  雾强度: 0.5\n",
      "正在从 ./data/UAV-M/UAV-benchmark-MOTD_v1.0/GT 解析所有 _gt_ignore.txt 数据到帧映射...\n",
      "成功从所有 _gt_ignore.txt 文件解析忽略数据到 30108 个帧。\n",
      "  从 _gt_ignore.txt 文件加载了忽略数据映射。\n",
      "尝试应用雾化方法 'MiDaS_Deep'...\n",
      "  经过处理后的最终图像根目录: data/UAV-M/MiDaS_Deep_UAV-benchmark-M\n",
      "处理 train 集，使用来自 data/UAV-M/MiDaS_Deep_UAV-benchmark-M 的图像...\n",
      "  创建了 train 数据集，包含 33094 个样本。\n",
      "处理 val 集，使用来自 data/UAV-M/MiDaS_Deep_UAV-benchmark-M 的图像...\n",
      "  创建了 val 数据集，包含 2436 个样本。\n",
      "处理 test 集，使用来自 data/UAV-M/MiDaS_Deep_UAV-benchmark-M 的图像...\n",
      "  创建了 test 数据集，包含 3299 个样本。\n",
      "处理 clean 集，使用来自 ./data/UAV-M/UAV-benchmark-M 的图像...\n",
      "  创建了 clean 数据集，包含 33094 个样本。\n",
      "处理 val_clean 集，使用来自 ./data/UAV-M/UAV-benchmark-M 的图像...\n",
      "  创建了 val_clean 数据集，包含 2436 个样本。\n",
      "Transferred 517/517 items from pretrained weights\n",
      "==> 尝试加载模型继续训练 ...\n",
      "未找到预训练去雾模型，重新训练。\n",
      "未找到已有检测模型，重新训练。\n",
      "冻结预训练去雾模型\n"
     ]
    },
    {
     "name": "stderr",
     "output_type": "stream",
     "text": [
      "Epoch 0:  10%|▉         | 136/1379 [00:57<08:39,  2.39it/s, yolov3_loss=236.7036, total_loss=236.7036, Batch=131/1379]"
     ]
    }
   ],
   "source": [
    "if __name__ == \"__main__\":\n",
    "    yaml = ['DRIFT_NET']\n",
    "    for i in yaml:\n",
    "        run_experiment(f\"configs/{i}.yaml\")"
   ]
  },
  {
   "cell_type": "code",
   "execution_count": null,
   "id": "6eec2c24-1248-4bc9-a10b-ce2dbad8ac6e",
   "metadata": {},
   "outputs": [],
   "source": []
  }
 ],
 "metadata": {
  "kernelspec": {
   "display_name": "Python 3 (ipykernel)",
   "language": "python",
   "name": "python3"
  },
  "language_info": {
   "codemirror_mode": {
    "name": "ipython",
    "version": 3
   },
   "file_extension": ".py",
   "mimetype": "text/x-python",
   "name": "python",
   "nbconvert_exporter": "python",
   "pygments_lexer": "ipython3",
   "version": "3.12.3"
  }
 },
 "nbformat": 4,
 "nbformat_minor": 5
}
